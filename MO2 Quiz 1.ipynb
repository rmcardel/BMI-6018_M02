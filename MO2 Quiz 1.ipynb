{
 "cells": [
  {
   "cell_type": "markdown",
   "id": "28ffe56a",
   "metadata": {},
   "source": [
    "QUIZ 1\n",
    "8/29/2022"
   ]
  },
  {
   "cell_type": "code",
   "execution_count": 18,
   "id": "3ea7390f",
   "metadata": {},
   "outputs": [
    {
     "data": {
      "text/plain": [
       "2"
      ]
     },
     "execution_count": 18,
     "metadata": {},
     "output_type": "execute_result"
    }
   ],
   "source": [
    "# Question 1\n",
    "True+True-False"
   ]
  },
  {
   "cell_type": "code",
   "execution_count": 20,
   "id": "79ca41d6",
   "metadata": {},
   "outputs": [
    {
     "name": "stdout",
     "output_type": "stream",
     "text": [
      " \n"
     ]
    }
   ],
   "source": [
    "# Question 5\n",
    "x = \"E. Coli\"\n",
    "print(x[2])"
   ]
  },
  {
   "cell_type": "code",
   "execution_count": 13,
   "id": "8bfdeb28",
   "metadata": {},
   "outputs": [
    {
     "name": "stdout",
     "output_type": "stream",
     "text": [
      "<class 'int'>\n"
     ]
    }
   ],
   "source": [
    "# Question 7\n",
    "# Jack has been prescribed 5 medications, write a variable named \"Medication\", and store in it the number of medications he has.\n",
    "# Print the type of the variable ''Medication\".\n",
    "Medication = 5\n",
    "\n",
    "print(type(Medication))"
   ]
  },
  {
   "cell_type": "code",
   "execution_count": 21,
   "id": "88b0b2fb",
   "metadata": {},
   "outputs": [
    {
     "data": {
      "text/plain": [
       "24.034609838166958"
      ]
     },
     "execution_count": 21,
     "metadata": {},
     "output_type": "execute_result"
    }
   ],
   "source": [
    "# Question 8\n",
    "# Susan has a weight of 60 kilograms and a height of 1.58 meters. Write Code to Calculate and Print Susan’s Body Mass Index as\n",
    "# float. Note: Body Mass Index is a person’s weight in kilograms divided by the square of height in meters.\n",
    "60/(1.58**2)"
   ]
  },
  {
   "cell_type": "code",
   "execution_count": null,
   "id": "a36def30",
   "metadata": {},
   "outputs": [],
   "source": []
  }
 ],
 "metadata": {
  "kernelspec": {
   "display_name": "Python 3 (ipykernel)",
   "language": "python",
   "name": "python3"
  },
  "language_info": {
   "codemirror_mode": {
    "name": "ipython",
    "version": 3
   },
   "file_extension": ".py",
   "mimetype": "text/x-python",
   "name": "python",
   "nbconvert_exporter": "python",
   "pygments_lexer": "ipython3",
   "version": "3.9.7"
  }
 },
 "nbformat": 4,
 "nbformat_minor": 5
}
